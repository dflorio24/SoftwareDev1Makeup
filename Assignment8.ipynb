{
 "cells": [
  {
   "cell_type": "code",
   "execution_count": null,
   "metadata": {},
   "outputs": [],
   "source": [
    "package base;\n",
    "\n",
    "//Three examples of recurssion by Dom Florio\n",
    "public class Main {\n",
    "\n",
    "    public static void main(String[] args) {\n",
    "        System.out.println(tail(10));\n",
    "        System.out.println(fibHead(10));\n",
    "        System.out.println(lin(10));\n",
    "    }\n",
    "\n",
    "//tail example of recurssion\n",
    "    \n",
    "    public static Integer tail(Integer n) {\n",
    "        if (n == 0) {return 0;}\n",
    "        if (n == 1) {return 1;}\n",
    "        return tail(n-2) + tail(n-1);\n",
    "    }\n",
    "    \n",
    "//linear example of recurssion\n",
    "\n",
    "    public static Integer head(Integer n) {\n",
    "        if (n >= 2) {\n",
    "            return fibHead(n-2) + fibHead(n-1);\n",
    "        }\n",
    "        if (n == 1) {return 1;}\n",
    "        return 0;\n",
    "    }\n",
    "\n",
    "    public static Integer fibTail(Integer n) {\n",
    "        if (n == 0) {return 0;}\n",
    "        if (n == 1) {return 1;}\n",
    "        return fibTail(n-2) + fibTail(n-1);\n",
    "    }\n",
    "}"
   ]
  }
 ],
 "metadata": {
  "kernelspec": {
   "display_name": "Java",
   "language": "java",
   "name": "java"
  },
  "language_info": {
   "codemirror_mode": "java",
   "file_extension": ".jshell",
   "mimetype": "text/x-java-source",
   "name": "Java",
   "pygments_lexer": "java",
   "version": "15.0.2+7-27"
  }
 },
 "nbformat": 4,
 "nbformat_minor": 4
}
