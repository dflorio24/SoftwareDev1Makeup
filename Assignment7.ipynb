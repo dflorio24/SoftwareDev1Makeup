{
 "cells": [
  {
   "cell_type": "code",
   "execution_count": null,
   "metadata": {},
   "outputs": [],
   "source": [
    "public class BubbleSortExample {  \n",
    "    static void bubbleSort(int[] arr) {  \n",
    "        int n = arr.length;  \n",
    "        int temp = 0;  \n",
    "         for(int i=0; i < n; i++){  \n",
    "                 for(int j=1; j < (n-i); j++){  \n",
    "                          if(arr[j-1] > arr[j]){  \n",
    "                                 //swap elements  \n",
    "                                 temp = arr[j-1];  \n",
    "                                 arr[j-1] = arr[j];  \n",
    "                                 arr[j] = temp;  \n",
    "                         }  \n",
    "                          \n",
    "                 }  \n",
    "         }  \n",
    "  \n",
    "    }  \n",
    "    public static void main(String[] args) {  \n",
    "                int arr[] ={3,60,35,2,45,320,5};  \n",
    "                 \n",
    "                System.out.println(\"Array Before Bubble Sort\");  \n",
    "                for(int i=0; i < arr.length; i++){  \n",
    "                        System.out.print(arr[i] + \" \");  \n",
    "                }  \n",
    "                System.out.println();  \n",
    "                  \n",
    "                bubbleSort(arr);//sorting array elements using bubble sort  \n",
    "                 \n",
    "                System.out.println(\"Array After Bubble Sort\");  \n",
    "                for(int i=0; i < arr.length; i++){  \n",
    "                        System.out.print(arr[i] + \" \");  \n",
    "                }  \n",
    "   \n",
    "        }  \n",
    "}  "
   ]
  }
 ],
 "metadata": {
  "kernelspec": {
   "display_name": "Java",
   "language": "java",
   "name": "java"
  },
  "language_info": {
   "codemirror_mode": "java",
   "file_extension": ".jshell",
   "mimetype": "text/x-java-source",
   "name": "Java",
   "pygments_lexer": "java",
   "version": "15.0.2+7-27"
  }
 },
 "nbformat": 4,
 "nbformat_minor": 4
}
