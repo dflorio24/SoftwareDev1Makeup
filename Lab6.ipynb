{
 "cells": [
  {
   "cell_type": "code",
   "execution_count": null,
   "metadata": {},
   "outputs": [],
   "source": [
    "package base;\n",
    "\n",
    "public class Main {\n",
    "\n",
    "    public static void main(String[] args) {\n",
    "\t    Node first = new Node(1);\n",
    "        Node second = new Node(2);\n",
    "        Node third = new Node(3);\n",
    "        Node fourth = new Node(4);\n",
    "        Node fifth = new Node(5);\n",
    "\n",
    "        first.nextNode = second;\n",
    "        second.nextNode = third;\n",
    "        third.nextNode = fourth;\n",
    "        fourth.nextNode = fifth;\n",
    "    }\n",
    "}"
   ]
  }
 ],
 "metadata": {
  "kernelspec": {
   "display_name": "Java",
   "language": "java",
   "name": "java"
  },
  "language_info": {
   "codemirror_mode": "java",
   "file_extension": ".jshell",
   "mimetype": "text/x-java-source",
   "name": "Java",
   "pygments_lexer": "java",
   "version": "15.0.2+7-27"
  }
 },
 "nbformat": 4,
 "nbformat_minor": 4
}
