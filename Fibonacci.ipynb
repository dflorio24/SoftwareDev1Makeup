{
 "cells": [
  {
   "cell_type": "code",
   "execution_count": null,
   "metadata": {},
   "outputs": [],
   "source": [
    "public class FibonacciCalc{\n",
    "        public static int fibonacciRecursion(int n){\n",
    "        if(n == 0){\n",
    "                return 0;\n",
    "        }\n",
    "        if(n == 1 || n == 2){\n",
    "                        return 1;\n",
    "                }\n",
    "        return fibonacciRecursion(n-2) + fibonacciRecursion(n-1);\n",
    "        }\n",
    "    public static void main(String args[]) {\n",
    "        int maxNumber = 10;\n",
    "        System.out.print(\"Fibonacci Series of \"+maxNumber+\" numbers: \");\n",
    "        for(int i = 0; i < maxNumber; i++){\n",
    "                        System.out.print(fibonacciRecursion(i) +\" \");\n",
    "                }\n",
    "        }\n",
    "}"
   ]
  }
 ],
 "metadata": {
  "kernelspec": {
   "display_name": "Java",
   "language": "java",
   "name": "java"
  },
  "language_info": {
   "codemirror_mode": "java",
   "file_extension": ".jshell",
   "mimetype": "text/x-java-source",
   "name": "Java",
   "pygments_lexer": "java",
   "version": "15.0.2+7-27"
  }
 },
 "nbformat": 4,
 "nbformat_minor": 4
}
