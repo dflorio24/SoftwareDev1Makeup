{
 "cells": [
  {
   "cell_type": "code",
   "execution_count": null,
   "metadata": {},
   "outputs": [],
   "source": [
    "public class Main {\n",
    "\n",
    "    public static void main(String[] args) {\n",
    "        System.out.println(fibTail(5));\n",
    "        System.out.println(fibHead(5));\n",
    "        System.out.println(fib(5));\n",
    "    }\n",
    "\n",
    "    public static Integer fib(Integer n) {\n",
    "        if (n == 0) {return 0;}\n",
    "        if (n == 1) {return 1;}\n",
    "        return fib(n-2) + fib(n-1);\n",
    "    }\n",
    "\n",
    "    public static Integer fibHead(Integer n) {\n",
    "        if (n >= 2) {\n",
    "            return fibHead(n-2) + fibHead(n-1);\n",
    "        }\n",
    "        if (n == 1) {return 1;}\n",
    "        return 0;\n",
    "    }\n",
    "\n",
    "    public static Integer fibTail(Integer n) {\n",
    "        if (n == 0) {return 0;}\n",
    "        if (n == 1) {return 1;}\n",
    "        return fibTail(n-2) + fibTail(n-1);\n",
    "    }\n",
    "}"
   ]
  }
 ],
 "metadata": {
  "kernelspec": {
   "display_name": "Java",
   "language": "java",
   "name": "java"
  },
  "language_info": {
   "codemirror_mode": "java",
   "file_extension": ".jshell",
   "mimetype": "text/x-java-source",
   "name": "Java",
   "pygments_lexer": "java",
   "version": "15.0.2+7-27"
  }
 },
 "nbformat": 4,
 "nbformat_minor": 4
}
